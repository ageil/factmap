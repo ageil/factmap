{
 "cells": [
  {
   "cell_type": "markdown",
   "metadata": {},
   "source": [
    "# Data collection"
   ]
  },
  {
   "cell_type": "markdown",
   "metadata": {},
   "source": [
    "## ClaimReview"
   ]
  },
  {
   "cell_type": "code",
   "execution_count": 101,
   "metadata": {
    "ExecuteTime": {
     "end_time": "2019-05-02T04:20:48.917030Z",
     "start_time": "2019-05-02T04:20:48.604470Z"
    },
    "collapsed": true
   },
   "outputs": [],
   "source": [
    "import requests\n",
    "import json\n",
    "from glob import glob\n",
    "import os\n",
    "from datetime import datetime\n",
    "import numpy as np\n",
    "import matplotlib.pyplot as plt\n",
    "import time"
   ]
  },
  {
   "cell_type": "code",
   "execution_count": 40,
   "metadata": {
    "ExecuteTime": {
     "end_time": "2019-05-01T21:14:31.463682Z",
     "start_time": "2019-05-01T21:14:31.280043Z"
    },
    "collapsed": true
   },
   "outputs": [],
   "source": [
    "def getReviews(offset=0):\n",
    "    params = {\n",
    "        'hl': '', # the language to search\n",
    "        'num_results': 1000,\n",
    "        'query': 'list:recent',\n",
    "        'force': 'false',\n",
    "        'offset': offset\n",
    "    }\n",
    "    headers = {\n",
    "        'dnt': '1',\n",
    "        'accept-encoding': 'gzip, deflate, br',\n",
    "        'accept-language': 'en-GB,en;q=0.9,it-IT;q=0.8,it;q=0.7,en-US;q=0.6',\n",
    "        'user-agent': 'Mozilla/5.0 (X11; Linux x86_64) AppleWebKit/537.36 (KHTML, like Gecko) Chrome/70.0.3538.110 Safari/537.36',\n",
    "        'accept': 'application/json, text/plain, */*',\n",
    "        'referer': 'https://toolbox.google.com/factcheck/explorer/search/list:recent;hl=en;gl=',\n",
    "        'authority': 'toolbox.google.com',\n",
    "        'cookie': os.environ.get('GOOGLE_FACTCHECK_EXPLORER_COOKIE')  # access authorization cookie data\n",
    "    }\n",
    "    response = requests.get('https://toolbox.google.com/factcheck/api/search', params=params, headers=headers)\n",
    "\n",
    "    if response.status_code != 200:\n",
    "        raise ValueError(response.status_code)\n",
    "\n",
    "    content = json.loads(response.text[5:])[0][1:3]\n",
    "    today = datetime.now().strftime(\"%B %d, %Y\")\n",
    "    path = \"/Users/anders1991/Github/FactMap/Data/claimreviews/raw/\"+today+\"/\"\n",
    "    filename = \"raw_{0}.json\".format(offset)\n",
    "    \n",
    "    if not os.path.isdir(path):\n",
    "        os.makedirs(path)\n",
    "    with open(path + filename, 'w') as f:\n",
    "        json.dump(content, f, indent=2)\n",
    "    \n",
    "    return content"
   ]
  },
  {
   "cell_type": "code",
   "execution_count": 41,
   "metadata": {
    "ExecuteTime": {
     "end_time": "2019-05-01T21:14:34.615457Z",
     "start_time": "2019-05-01T21:14:34.594112Z"
    },
    "collapsed": true
   },
   "outputs": [],
   "source": [
    "def collect():\n",
    "    offset = 0\n",
    "    claims = []\n",
    "    tags = []\n",
    "    \n",
    "    while True:\n",
    "        print('offset', offset)\n",
    "        content = getReviews(offset=offset)\n",
    "        if not content[0]:\n",
    "            break\n",
    "        offset += len(content[0])\n",
    "        claims.append(content[0])\n",
    "        tags.append(content[1])\n",
    "\n",
    "    return claims, tags"
   ]
  },
  {
   "cell_type": "markdown",
   "metadata": {},
   "source": [
    "Collect raw data:"
   ]
  },
  {
   "cell_type": "code",
   "execution_count": 42,
   "metadata": {
    "ExecuteTime": {
     "end_time": "2019-05-01T21:14:36.027213Z",
     "start_time": "2019-05-01T21:14:36.014592Z"
    },
    "collapsed": true,
    "scrolled": true
   },
   "outputs": [],
   "source": [
    "# raw = collect()"
   ]
  },
  {
   "cell_type": "markdown",
   "metadata": {},
   "source": [
    "Load collected raw data:"
   ]
  },
  {
   "cell_type": "code",
   "execution_count": 57,
   "metadata": {
    "ExecuteTime": {
     "end_time": "2019-05-02T04:09:17.336221Z",
     "start_time": "2019-05-02T04:09:12.857944Z"
    }
   },
   "outputs": [
    {
     "name": "stdout",
     "output_type": "stream",
     "text": [
      "/Users/anders1991/Github/FactMap/Data/claimreviews/raw/March 5, 2019/\n",
      "batches: 33\n"
     ]
    }
   ],
   "source": [
    "# today = datetime.now().strftime(\"%B %d, %Y\")\n",
    "path = \"/Users/anders1991/Github/FactMap/Data/claimreviews/raw/March 5, 2019/\" # \"+today+\"/\"\n",
    "print(path)\n",
    "raw_paths = glob(path+\"*.json\")\n",
    "\n",
    "raw = []\n",
    "for path in raw_paths:\n",
    "    with open(path) as f:  \n",
    "        raw.append(json.load(f))\n",
    "        \n",
    "print('batches:', len(raw))  # num batches"
   ]
  },
  {
   "cell_type": "code",
   "execution_count": 58,
   "metadata": {
    "ExecuteTime": {
     "end_time": "2019-05-02T04:09:17.483487Z",
     "start_time": "2019-05-02T04:09:17.338748Z"
    }
   },
   "outputs": [
    {
     "name": "stdout",
     "output_type": "stream",
     "text": [
      "Num claims:\t 31269\n",
      "Num tags:\t 20768\n"
     ]
    }
   ],
   "source": [
    "raw_claims = [c for batch in raw for c in batch[0][1]]\n",
    "raw_tags = {c[0]: c[1] for batch in raw for c in batch[0][2]}\n",
    "\n",
    "print(\"Num claims:\\t\", len(raw_claims))\n",
    "print(\"Num tags:\\t\", len(raw_tags))"
   ]
  },
  {
   "cell_type": "markdown",
   "metadata": {},
   "source": [
    "/m/ tags are Freebase identifiers  \n",
    "/g/ tags are Google identifiers  \n",
    "/t/ tags are ?"
   ]
  },
  {
   "cell_type": "markdown",
   "metadata": {},
   "source": [
    "Parse data to ClaimReviews:"
   ]
  },
  {
   "cell_type": "code",
   "execution_count": 62,
   "metadata": {
    "ExecuteTime": {
     "end_time": "2019-05-02T04:09:48.262749Z",
     "start_time": "2019-05-02T04:09:48.176535Z"
    },
    "collapsed": true
   },
   "outputs": [],
   "source": [
    "def parseReviews(reviews, tagdict):\n",
    "    results = []\n",
    "    for idx, r in enumerate(reviews):\n",
    "        try:\n",
    "            claimReview = {\n",
    "                'reviewUrl': r[0][3][0][1],\n",
    "                'claimReviewed': r[0][0],\n",
    "                'lang': r[0][3][0][6],\n",
    "                'countries': r[0][3][0][7],\n",
    "                'claimReviewed_en': r[0][11] if len(r[0]) > 11 else None,\n",
    "                'claimDate': r[0][2] if len(r[0]) > 2 else None,\n",
    "                'reviewDate': r[0][3][0][2] if len(r[0][3][0]) > 2 else None,\n",
    "                'reviewAuthor': {\n",
    "                    \"name\": r[0][3][0][0][0],  # review author\n",
    "                    \"authorURL\": r[0][3][0][0][1]\n",
    "                },\n",
    "                'reviewRating': {\n",
    "                    'ratingValue': r[0][3][0][9][0] if (len(r[0][3][0]) > 9 and r[0][3][0][9] and len(r[0][3][0][9])) else -1,\n",
    "                    'worstRating': r[0][3][0][9][1] if (len(r[0][3][0]) > 9 and r[0][3][0][9] and len(r[0][3][0][9])) else -1,\n",
    "                    'bestRating': r[0][3][0][9][2] if  (len(r[0][3][0]) > 9 and r[0][3][0][9] and len(r[0][3][0][9])) else -1,\n",
    "                    'alternateName': r[0][3][0][3]\n",
    "                },\n",
    "                'claimAuthor': {\n",
    "                    'name': r[0][1][0],  # claim author\n",
    "                    'claimURL': r[0][4][0][1] if len(r[0][4]) else None\n",
    "                } if len(r[0][1]) else {},\n",
    "                'tagsRaw': [{'keyword': tag[0], 'probability': tag[1]} for tag in r[0][8] if len(tag) == 2],\n",
    "                'tagsNamed': [{'keyword': raw_tags[tag[0]], 'probability': tag[1]} for tag in r[0][8] if (tag[0] in raw_tags) and (len(tag) == 2)],\n",
    "                'reviewTitle': r[0][3][0][8]\n",
    "            }\n",
    "            results.append(claimReview)\n",
    "        except IndexError as e:\n",
    "            print(idx)\n",
    "            print(json.dumps(r))\n",
    "            raise(e)\n",
    "    return results"
   ]
  },
  {
   "cell_type": "code",
   "execution_count": 63,
   "metadata": {
    "ExecuteTime": {
     "end_time": "2019-05-02T04:09:51.579264Z",
     "start_time": "2019-05-02T04:09:50.613167Z"
    }
   },
   "outputs": [
    {
     "data": {
      "text/plain": [
       "31269"
      ]
     },
     "execution_count": 63,
     "metadata": {},
     "output_type": "execute_result"
    }
   ],
   "source": [
    "claims = parseReviews(raw_claims, raw_tags)\n",
    "len(claims)"
   ]
  },
  {
   "cell_type": "markdown",
   "metadata": {},
   "source": [
    "Save parsed ClaimReviews to json:"
   ]
  },
  {
   "cell_type": "code",
   "execution_count": 65,
   "metadata": {
    "ExecuteTime": {
     "end_time": "2019-05-02T04:10:05.474117Z",
     "start_time": "2019-05-02T04:10:05.471298Z"
    },
    "collapsed": true
   },
   "outputs": [],
   "source": [
    "path = \"/Users/anders1991/Github/FactMap/Data/claimreviews/claims.json\""
   ]
  },
  {
   "cell_type": "code",
   "execution_count": 66,
   "metadata": {
    "ExecuteTime": {
     "end_time": "2019-05-02T04:10:09.645025Z",
     "start_time": "2019-05-02T04:10:08.620047Z"
    },
    "collapsed": true
   },
   "outputs": [],
   "source": [
    "# with open(path, 'w') as f:\n",
    "#     f.write('\\n'.join(json.dumps(c) for c in claims))"
   ]
  },
  {
   "cell_type": "markdown",
   "metadata": {},
   "source": [
    "Load parsed ClaimReviews:"
   ]
  },
  {
   "cell_type": "code",
   "execution_count": 68,
   "metadata": {
    "ExecuteTime": {
     "end_time": "2019-05-02T04:11:28.164999Z",
     "start_time": "2019-05-02T04:11:28.159444Z"
    },
    "scrolled": true
   },
   "outputs": [
    {
     "name": "stdout",
     "output_type": "stream",
     "text": [
      "Latest file: /Users/anders1991/Github/FactMap/Data/claimreviews/claims.json\n"
     ]
    }
   ],
   "source": [
    "paths = glob(\"/Users/anders1991/Github/FactMap/Data/claimreviews/*.json\")\n",
    "latest = max(paths, key=os.path.getctime)\n",
    "print('Latest file:', latest)"
   ]
  },
  {
   "cell_type": "code",
   "execution_count": 2,
   "metadata": {
    "ExecuteTime": {
     "end_time": "2019-06-07T03:57:18.180973Z",
     "start_time": "2019-06-07T03:57:18.178162Z"
    }
   },
   "outputs": [],
   "source": [
    "# with open(latest, 'r') as fp:\n",
    "#     claims = json.load(fp)\n",
    "\n",
    "# print(len(claims))"
   ]
  },
  {
   "cell_type": "markdown",
   "metadata": {},
   "source": [
    "---"
   ]
  },
  {
   "cell_type": "markdown",
   "metadata": {},
   "source": [
    "Collect new claims:"
   ]
  },
  {
   "cell_type": "code",
   "execution_count": 69,
   "metadata": {
    "ExecuteTime": {
     "end_time": "2019-05-02T04:13:15.634721Z",
     "start_time": "2019-05-02T04:12:36.462260Z"
    },
    "scrolled": false
   },
   "outputs": [
    {
     "name": "stdout",
     "output_type": "stream",
     "text": [
      "offset 0\n",
      "offset 1000\n",
      "offset 2000\n",
      "offset 3000\n",
      "offset 4000\n",
      "offset 5000\n",
      "offset 6000\n",
      "offset 7000\n",
      "offset 8000\n",
      "offset 9000\n",
      "offset 10000\n",
      "offset 11000\n",
      "offset 12000\n",
      "offset 13000\n",
      "offset 14000\n",
      "offset 15000\n",
      "offset 16000\n",
      "offset 17000\n",
      "offset 18000\n",
      "offset 19000\n",
      "offset 20000\n",
      "offset 21000\n",
      "offset 22000\n",
      "offset 23000\n",
      "offset 24000\n",
      "offset 25000\n",
      "offset 26000\n",
      "offset 27000\n",
      "offset 28000\n",
      "offset 29000\n",
      "offset 29028\n"
     ]
    },
    {
     "data": {
      "text/plain": [
       "2"
      ]
     },
     "execution_count": 69,
     "metadata": {},
     "output_type": "execute_result"
    }
   ],
   "source": [
    "raw = collect()\n",
    "len(raw)"
   ]
  },
  {
   "cell_type": "code",
   "execution_count": 70,
   "metadata": {
    "ExecuteTime": {
     "end_time": "2019-05-02T04:13:18.690840Z",
     "start_time": "2019-05-02T04:13:18.647130Z"
    },
    "scrolled": true
   },
   "outputs": [
    {
     "name": "stdout",
     "output_type": "stream",
     "text": [
      "29028\n",
      "18132\n"
     ]
    }
   ],
   "source": [
    "raw_claims = [c for b in raw[0] for c in b]\n",
    "raw_tags = {r[0]: r[1] for b in raw[1] for r in b if len(r) == 2}\n",
    "        \n",
    "print(len(raw_claims))\n",
    "print(len(raw_tags))"
   ]
  },
  {
   "cell_type": "code",
   "execution_count": 71,
   "metadata": {
    "ExecuteTime": {
     "end_time": "2019-05-02T04:13:22.260459Z",
     "start_time": "2019-05-02T04:13:21.760016Z"
    }
   },
   "outputs": [
    {
     "data": {
      "text/plain": [
       "29028"
      ]
     },
     "execution_count": 71,
     "metadata": {},
     "output_type": "execute_result"
    }
   ],
   "source": [
    "claims_new = parseReviews(raw_claims, raw_tags)\n",
    "len(claims_new)"
   ]
  },
  {
   "cell_type": "code",
   "execution_count": 72,
   "metadata": {
    "ExecuteTime": {
     "end_time": "2019-05-02T04:13:28.741561Z",
     "start_time": "2019-05-02T04:13:26.352608Z"
    }
   },
   "outputs": [
    {
     "data": {
      "text/plain": [
       "60074"
      ]
     },
     "execution_count": 72,
     "metadata": {},
     "output_type": "execute_result"
    }
   ],
   "source": [
    "hashes = set()\n",
    "allclaims = []\n",
    "\n",
    "for c in (claims + claims_new):\n",
    "    hsh = hash(str(c))\n",
    "    if hsh not in hashes:\n",
    "        allclaims.append(c)\n",
    "        hashes.add(hsh)\n",
    "        \n",
    "len(allclaims)"
   ]
  },
  {
   "cell_type": "code",
   "execution_count": 73,
   "metadata": {
    "ExecuteTime": {
     "end_time": "2019-05-02T04:13:33.808560Z",
     "start_time": "2019-05-02T04:13:33.805112Z"
    },
    "collapsed": true
   },
   "outputs": [],
   "source": [
    "claims = allclaims"
   ]
  },
  {
   "cell_type": "markdown",
   "metadata": {},
   "source": [
    "Save combined claims to file:"
   ]
  },
  {
   "cell_type": "code",
   "execution_count": 74,
   "metadata": {
    "ExecuteTime": {
     "end_time": "2019-05-02T04:13:42.817258Z",
     "start_time": "2019-05-02T04:13:40.876399Z"
    },
    "collapsed": true
   },
   "outputs": [],
   "source": [
    "today = datetime.now().strftime(\"%b-%d-%Y\")\n",
    "path = \"/Users/anders1991/Github/FactMap/Data/claimreviews/claims_\"\n",
    "\n",
    "with open(path + today + \".json\", 'w') as f:\n",
    "    f.write('\\n'.join(json.dumps(c) for c in claims))"
   ]
  },
  {
   "cell_type": "markdown",
   "metadata": {},
   "source": [
    "Reload combined claims from file:"
   ]
  },
  {
   "cell_type": "code",
   "execution_count": 54,
   "metadata": {
    "ExecuteTime": {
     "end_time": "2019-05-01T21:18:59.379908Z",
     "start_time": "2019-05-01T21:18:56.952363Z"
    }
   },
   "outputs": [
    {
     "data": {
      "text/plain": [
       "59747"
      ]
     },
     "execution_count": 54,
     "metadata": {},
     "output_type": "execute_result"
    }
   ],
   "source": [
    "path = glob(\"/Users/anders1991/Github/FactMap/Data/claimreviews/claims_*\")\n",
    "\n",
    "claims = []\n",
    "with open(path[0], 'r') as f:\n",
    "    for line in f:\n",
    "         claims.append(json.loads(line))\n",
    "            \n",
    "len(claims)"
   ]
  },
  {
   "cell_type": "markdown",
   "metadata": {},
   "source": [
    "---"
   ]
  },
  {
   "cell_type": "markdown",
   "metadata": {},
   "source": [
    "## Summary statistics"
   ]
  },
  {
   "cell_type": "markdown",
   "metadata": {},
   "source": [
    "Amount of ClaimReviews with source URLs:"
   ]
  },
  {
   "cell_type": "code",
   "execution_count": 77,
   "metadata": {
    "ExecuteTime": {
     "end_time": "2019-05-02T04:15:31.891528Z",
     "start_time": "2019-05-02T04:15:31.885359Z"
    }
   },
   "outputs": [
    {
     "data": {
      "text/plain": [
       "{'claimAuthor': {'claimURL': None, 'name': 'Amazon'},\n",
       " 'claimDate': 1511481600,\n",
       " 'claimReviewed': '“i salari dei dipendenti di Amazon sono i più alti del settore della logistica',\n",
       " 'claimReviewed_en': '\"The wages of Amazon employees are the highest in the logistics sector',\n",
       " 'countries': ['us', 'it'],\n",
       " 'lang': 'it',\n",
       " 'reviewAuthor': {'authorURL': 'agi.it', 'name': 'Agi'},\n",
       " 'reviewDate': 1511884336,\n",
       " 'reviewRating': {'alternateName': 'Vero',\n",
       "  'bestRating': 5,\n",
       "  'ratingValue': 1,\n",
       "  'worstRating': 1},\n",
       " 'reviewTitle': 'Quanto guadagna effettivamente un magazziniere di Amazon?',\n",
       " 'reviewUrl': 'https://www.agi.it/fact-checking/amazon_black_friday_sciopero_stipendio_fact_checking-3159937/news/2017-11-25/',\n",
       " 'tagsNamed': [{'keyword': 'Salary', 'probability': 0.7125},\n",
       "  {'keyword': 'Amazon.com', 'probability': 0.7072},\n",
       "  {'keyword': 'Employee', 'probability': 0.3023},\n",
       "  {'keyword': 'Logistics', 'probability': 0.218}],\n",
       " 'tagsRaw': [{'keyword': '/m/02w88k', 'probability': 0.7125},\n",
       "  {'keyword': '/t/28fxjq4zljyq4', 'probability': 0.7087},\n",
       "  {'keyword': '/m/0mgkg', 'probability': 0.7072},\n",
       "  {'keyword': '/g/120qdpxk', 'probability': 0.3023},\n",
       "  {'keyword': '/m/0k9sx', 'probability': 0.218}]}"
      ]
     },
     "execution_count": 77,
     "metadata": {},
     "output_type": "execute_result"
    }
   ],
   "source": [
    "claims[0]"
   ]
  },
  {
   "cell_type": "code",
   "execution_count": 79,
   "metadata": {
    "ExecuteTime": {
     "end_time": "2019-05-02T04:16:24.972951Z",
     "start_time": "2019-05-02T04:16:24.923416Z"
    }
   },
   "outputs": [
    {
     "name": "stdout",
     "output_type": "stream",
     "text": [
      "Claims in total:\t 60074\n",
      "Claims w/ source URLs:\t 12282\n",
      "% of claims w/ URLs:\t 20.4\n"
     ]
    }
   ],
   "source": [
    "urls = []\n",
    "for i, c in enumerate(claims):\n",
    "    try:\n",
    "        if c['claimAuthor']['claimURL']:\n",
    "            urls.append(c)\n",
    "    except:\n",
    "        None\n",
    "\n",
    "print('Claims in total:\\t', len(claims))\n",
    "print('Claims w/ source URLs:\\t', len(urls))\n",
    "print('% of claims w/ URLs:\\t', round(len(urls)/len(claims)*100, 1))"
   ]
  },
  {
   "cell_type": "markdown",
   "metadata": {},
   "source": [
    "Number of unique topics found in ClaimReviews:"
   ]
  },
  {
   "cell_type": "code",
   "execution_count": 89,
   "metadata": {
    "ExecuteTime": {
     "end_time": "2019-05-02T04:19:02.800933Z",
     "start_time": "2019-05-02T04:19:02.609464Z"
    },
    "scrolled": true
   },
   "outputs": [
    {
     "name": "stdout",
     "output_type": "stream",
     "text": [
      "Num topics found in ClaimReviews:\t 21668\n"
     ]
    }
   ],
   "source": [
    "tpc = dict()\n",
    "\n",
    "for c in claims:\n",
    "    for t in list(c['tagsNamed']):\n",
    "        if t['keyword'] in tpc.keys():\n",
    "            tpc[t['keyword']] += 1\n",
    "        else:\n",
    "            tpc[t['keyword']] = 1\n",
    "\n",
    "print('Num topics found in ClaimReviews:\\t', len(tpc))"
   ]
  },
  {
   "cell_type": "code",
   "execution_count": 91,
   "metadata": {
    "ExecuteTime": {
     "end_time": "2019-05-02T04:19:33.899251Z",
     "start_time": "2019-05-02T04:19:33.880400Z"
    }
   },
   "outputs": [
    {
     "name": "stdout",
     "output_type": "stream",
     "text": [
      "Donald Trump 2444\n",
      "United States of America 1977\n",
      "Photograph 1737\n",
      "Government 1735\n",
      "Video 1657\n",
      "Voting 1427\n",
      "United States 1383\n",
      "Russia 1347\n",
      "Interview 1307\n",
      "Election 1257\n"
     ]
    }
   ],
   "source": [
    "top = sorted(tpc, key=tpc.get, reverse=True)[:10]\n",
    "\n",
    "for c in top:\n",
    "    print(c, tpc[c])"
   ]
  },
  {
   "cell_type": "markdown",
   "metadata": {},
   "source": [
    "Number of distinct countries:"
   ]
  },
  {
   "cell_type": "code",
   "execution_count": 92,
   "metadata": {
    "ExecuteTime": {
     "end_time": "2019-05-02T04:19:43.961347Z",
     "start_time": "2019-05-02T04:19:43.874883Z"
    }
   },
   "outputs": [
    {
     "name": "stdout",
     "output_type": "stream",
     "text": [
      "222\n"
     ]
    }
   ],
   "source": [
    "countries = dict()\n",
    "\n",
    "for c in claims:\n",
    "    for cntry in c['countries']:\n",
    "        if cntry in countries.keys():\n",
    "            countries[cntry] += 1\n",
    "        else:\n",
    "            countries[cntry] = 1\n",
    "#         countries.add(cntry)\n",
    "        \n",
    "print(len(countries))"
   ]
  },
  {
   "cell_type": "code",
   "execution_count": 93,
   "metadata": {
    "ExecuteTime": {
     "end_time": "2019-05-02T04:19:49.668761Z",
     "start_time": "2019-05-02T04:19:49.658942Z"
    }
   },
   "outputs": [
    {
     "name": "stdout",
     "output_type": "stream",
     "text": [
      "us 25503\n",
      "br 9453\n",
      "in 6132\n",
      "fr 3292\n",
      "gb 3286\n",
      "ar 2452\n",
      "tr 2290\n",
      "it 2273\n",
      "ru 2267\n",
      "de 1805\n"
     ]
    }
   ],
   "source": [
    "top = sorted(countries, key=countries.get, reverse=True)[:10]\n",
    "\n",
    "for c in top:\n",
    "    print(c, countries[c])"
   ]
  },
  {
   "cell_type": "markdown",
   "metadata": {},
   "source": [
    "Number of distinct languages:"
   ]
  },
  {
   "cell_type": "code",
   "execution_count": 94,
   "metadata": {
    "ExecuteTime": {
     "end_time": "2019-05-02T04:19:52.510320Z",
     "start_time": "2019-05-02T04:19:52.455897Z"
    }
   },
   "outputs": [
    {
     "name": "stdout",
     "output_type": "stream",
     "text": [
      "37\n"
     ]
    }
   ],
   "source": [
    "langs = dict()\n",
    "\n",
    "for c in claims:\n",
    "    lang = c['lang']\n",
    "    if lang in langs.keys():\n",
    "        langs[lang] += 1\n",
    "    else:\n",
    "        langs[lang] = 1\n",
    "        \n",
    "print(len(langs))"
   ]
  },
  {
   "cell_type": "code",
   "execution_count": 95,
   "metadata": {
    "ExecuteTime": {
     "end_time": "2019-05-02T04:19:54.708875Z",
     "start_time": "2019-05-02T04:19:54.699736Z"
    },
    "scrolled": false
   },
   "outputs": [
    {
     "name": "stdout",
     "output_type": "stream",
     "text": [
      "en 29572\n",
      "pt 5408\n",
      "pt-pt 4781\n",
      "es 3838\n",
      "id 2348\n",
      "it 1990\n",
      "tr 1980\n",
      "hi 1624\n",
      "fr 1421\n",
      "sr 1341\n"
     ]
    }
   ],
   "source": [
    "top = sorted(langs, key=langs.get, reverse=True)[:10]\n",
    "\n",
    "for c in top:\n",
    "    print(c, langs[c])"
   ]
  },
  {
   "cell_type": "markdown",
   "metadata": {},
   "source": [
    "Temporal distribution of claims:"
   ]
  },
  {
   "cell_type": "code",
   "execution_count": 99,
   "metadata": {
    "ExecuteTime": {
     "end_time": "2019-05-02T04:20:31.163267Z",
     "start_time": "2019-05-02T04:20:31.122891Z"
    },
    "collapsed": true
   },
   "outputs": [],
   "source": [
    "x = np.histogram([c['claimDate'] for c in claims if c['claimDate'] is not None], bins=1000)"
   ]
  },
  {
   "cell_type": "code",
   "execution_count": 103,
   "metadata": {
    "ExecuteTime": {
     "end_time": "2019-05-02T04:21:17.783395Z",
     "start_time": "2019-05-02T04:21:16.332736Z"
    },
    "scrolled": false
   },
   "outputs": [
    {
     "data": {
      "image/png": "[encoded data removed]",
      "text/plain": [
       "<Figure size 432x288 with 1 Axes>"
      ]
     },
     "metadata": {},
     "output_type": "display_data"
    }
   ],
   "source": [
    "plt.bar([int(datetime.fromtimestamp(q).strftime('%Y')) for q in x[1][:-1]], x[0])\n",
    "plt.show()"
   ]
  },
  {
   "cell_type": "markdown",
   "metadata": {},
   "source": [
    "Temporal distribution of reviews:"
   ]
  },
  {
   "cell_type": "code",
   "execution_count": 105,
   "metadata": {
    "ExecuteTime": {
     "end_time": "2019-05-02T04:21:36.001171Z",
     "start_time": "2019-05-02T04:21:35.955529Z"
    },
    "collapsed": true
   },
   "outputs": [],
   "source": [
    "x = np.histogram([c['reviewDate'] for c in claims if c['reviewDate'] is not None], bins=1000)"
   ]
  },
  {
   "cell_type": "code",
   "execution_count": 106,
   "metadata": {
    "ExecuteTime": {
     "end_time": "2019-05-02T04:21:52.531649Z",
     "start_time": "2019-05-02T04:21:51.203048Z"
    },
    "scrolled": false
   },
   "outputs": [
    {
     "data": {
      "image/png": "[encoded data removed]",
      "text/plain": [
       "<Figure size 432x288 with 1 Axes>"
      ]
     },
     "metadata": {},
     "output_type": "display_data"
    }
   ],
   "source": [
    "plt.bar([int(datetime.fromtimestamp(q).strftime('%Y')) for q in x[1][:-1]], x[0])\n",
    "plt.show()"
   ]
  },
  {
   "cell_type": "markdown",
   "metadata": {},
   "source": [
    "~95% of data is from 2015 onwards!"
   ]
  },
  {
   "cell_type": "markdown",
   "metadata": {},
   "source": [
    "---"
   ]
  },
  {
   "cell_type": "markdown",
   "metadata": {},
   "source": [
    "# Collecting reddit data"
   ]
  },
  {
   "cell_type": "code",
   "execution_count": 547,
   "metadata": {
    "ExecuteTime": {
     "end_time": "2019-04-16T07:43:10.320936Z",
     "start_time": "2019-04-16T07:43:10.303820Z"
    },
    "collapsed": true
   },
   "outputs": [],
   "source": [
    "def getSubmissions(after=1420070400):\n",
    "    params = {\n",
    "        'fields': ['id', 'created_utc', 'retrieved_on', 'subreddit_id', 'domain', 'author', 'title', 'subreddit', 'url',\n",
    "                   'score', 'num_comments', 'subreddit_type', 'subreddit_subscribers'],\n",
    "        'sort': 'asc',\n",
    "        'is_self': False,\n",
    "        'after': after,  # Jan 1, 2015: 00:00:00\n",
    "        'size': '500'\n",
    "    }\n",
    "\n",
    "    response = requests.get('https://api.pushshift.io/reddit/search/submission/', params=params)\n",
    "\n",
    "    if response.status_code != 200:\n",
    "        raise ValueError(response.status_code)\n",
    "\n",
    "    data = json.loads(response.text)['data']\n",
    "\n",
    "    return data"
   ]
  },
  {
   "cell_type": "code",
   "execution_count": 546,
   "metadata": {
    "ExecuteTime": {
     "end_time": "2019-04-16T07:42:53.530612Z",
     "start_time": "2019-04-16T07:42:53.445084Z"
    },
    "collapsed": true
   },
   "outputs": [],
   "source": [
    "def collectSubmissions(after=1420070400):\n",
    "    after = after\n",
    "    num = 0\n",
    "    submissions = []\n",
    "    requests_per_minute = 180\n",
    "    requests = 0\n",
    "    start_time = time.time()\n",
    "    print('Initiating...')\n",
    "\n",
    "    while True:\n",
    "        print('Num:', num)\n",
    "        time_diff = time.time() - start_time\n",
    "\n",
    "        if requests < requests_per_minute and time_diff < 60:\n",
    "            requests += 1\n",
    "            data = getSubmissions(after=after)\n",
    "\n",
    "            if not data[0]:\n",
    "                break\n",
    "\n",
    "            num += len(data)\n",
    "            after = data[-1]['created_utc']\n",
    "            submissions.append(data)\n",
    "\n",
    "            if num > 2000000 or data[0] is None:  # dump to file if >2M submissions\n",
    "                path = \"/Users/anders1991/Github/FactMap/Data/reddit/raw/\"\n",
    "                filename = \"raw_{0}.json\".format(after)\n",
    "\n",
    "                if not os.path.isdir(path):\n",
    "                    os.makedirs(path)\n",
    "                with open(path + filename, 'w') as f:\n",
    "                    json.dump(submissions, f, indent=2)\n",
    "\n",
    "                submissions = []\n",
    "                num = 0\n",
    "        elif time_diff >= 60:\n",
    "            start_time = time.time()\n",
    "            requests = 0\n",
    "        else:\n",
    "            print('Waiting', 60-time_diff, 'seconds...')\n",
    "            time.sleep(60-time_diff)\n",
    "\n",
    "            start_time = time.time()\n",
    "            requests = 0\n",
    "\n",
    "    print('Finished!')\n",
    "\n",
    "    return submissions"
   ]
  },
  {
   "cell_type": "code",
   "execution_count": 583,
   "metadata": {
    "ExecuteTime": {
     "end_time": "2019-04-17T05:19:54.671873Z",
     "start_time": "2019-04-17T05:19:54.656178Z"
    },
    "collapsed": true,
    "scrolled": true
   },
   "outputs": [],
   "source": [
    "# out = collectSubmissions()"
   ]
  },
  {
   "cell_type": "markdown",
   "metadata": {},
   "source": [
    "Takes too long to download via API!"
   ]
  },
  {
   "cell_type": "markdown",
   "metadata": {},
   "source": [
    "Downloaded via Google BigQuery instead."
   ]
  },
  {
   "cell_type": "markdown",
   "metadata": {},
   "source": [
    "---"
   ]
  }
 ],
 "metadata": {
  "kernelspec": {
   "display_name": "Python [conda env:py3]",
   "language": "python",
   "name": "conda-env-py3-py"
  },
  "language_info": {
   "codemirror_mode": {
    "name": "ipython",
    "version": 3
   },
   "file_extension": ".py",
   "mimetype": "text/x-python",
   "name": "python",
   "nbconvert_exporter": "python",
   "pygments_lexer": "ipython3",
   "version": "3.6.2"
  }
 },
 "nbformat": 4,
 "nbformat_minor": 2
}
